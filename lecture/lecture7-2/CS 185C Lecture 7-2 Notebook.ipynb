{
 "cells": [
  {
   "cell_type": "markdown",
   "id": "d33ddf52-a93f-4b34-8105-424eccfa50b8",
   "metadata": {},
   "source": [
    "# Our First Model: The Barotropic Gyre (continued)\n",
    "\n",
    "#### Overview:\n",
    "In this notebook, we will continue to investigate the results of the Barotropic Gyre experiment - a simple but typical MITgcm experiment.\n",
    "\n",
    "#### Import modules\n",
    "Begin by importing modules to conduct calculations and make plots."
   ]
  },
  {
   "cell_type": "code",
   "execution_count": 1,
   "id": "30178947-16c8-4653-9146-9bef55eda1a2",
   "metadata": {},
   "outputs": [],
   "source": [
    "import os\n",
    "import numpy as np\n",
    "import matplotlib.pyplot as plt"
   ]
  },
  {
   "cell_type": "markdown",
   "id": "4b07690b-348c-4e07-9dc0-1147a317e951",
   "metadata": {},
   "source": [
    "#### Define a path to the model\n"
   ]
  },
  {
   "cell_type": "code",
   "execution_count": 2,
   "id": "4e00bb1e-cced-4959-9e5d-d8fe9c5e15e3",
   "metadata": {},
   "outputs": [],
   "source": [
    "# enter your path here\n",
    "model_path = 'C:/Users/tandre/Desktop/Spring 2025/cs185c/MITgcm/verification/tutorial_barotropic_gyre/'"
   ]
  },
  {
   "cell_type": "markdown",
   "id": "743af238-2e07-4a52-ba7f-fdf543b2446b",
   "metadata": {},
   "source": [
    "#### Read in the grid"
   ]
  },
  {
   "cell_type": "code",
   "execution_count": null,
   "id": "f113580f-33d0-4d71-ad8c-18ba9e35e52d",
   "metadata": {},
   "outputs": [],
   "source": [
    "# fill in the grid information here\n",
    "n_rows = 62\n",
    "n_cols = 62\n",
    "\n",
    "# read in the X and the Y grids\n",
    "X_file = os.path.join(model_path,'run','XC.data') \n",
    "Y_file = os.path.join(model_path,'run','YC.data')\n",
    "X = np.fromfile(X_file, '>f4').reshape((n_rows, n_cols))\n",
    "Y = np.fromfile(Y_file, '>f4').reshape((n_rows, n_cols))"
   ]
  },
  {
   "cell_type": "markdown",
   "id": "52f030bd-8211-4bf2-ad4f-72f7dd422e21",
   "metadata": {},
   "source": [
    "## Re-Assessing Model Output\n",
    "In the previous notebook, we looked at snapshots of our model field at two different times - the start and end. However, it's helpful to watch how your model evolves through time to understand the dynamics at play."
   ]
  },
  {
   "cell_type": "markdown",
   "id": "77675a24-9568-480b-adb5-278b8da3abbd",
   "metadata": {},
   "source": [
    "### The Evolution of a Western Boundary Current\n",
    "In this section, we will make a plot of the evolution of the western boundary current."
   ]
  },
  {
   "cell_type": "code",
   "execution_count": null,
   "id": "5fed20ee-e5cb-4af3-9ca2-78aa86296dcf",
   "metadata": {},
   "outputs": [],
   "source": [
    "# define the iteration numbers\n",
    "output_iter_step = 3240 - 1080\n",
    "iter_numbers = np.arange(1080, 12*output_iter_step, output_iter_step)\n",
    "print(iter_numbers)"
   ]
  },
  {
   "cell_type": "markdown",
   "id": "e44eaeae-43f7-464c-ad15-44963094305a",
   "metadata": {},
   "source": [
    "Make a plot of each iteration in a 4x3 grid"
   ]
  },
  {
   "cell_type": "code",
   "execution_count": null,
   "id": "8462ac7a-a42c-44d3-afd8-fcbf328fe32c",
   "metadata": {},
   "outputs": [],
   "source": [
    "fig = plt.figure(figsize=(10,12))\n",
    "\n",
    "for i in range(len(iter_numbers)):\n",
    "\n",
    "    # make a subplot for this figure\n",
    "    plt.subplot(4,3,i+1)\n",
    "\n",
    "    # define the zonal velocity file after one year\n",
    "    u_file = os.path.join(model_path,'run','diags','UVEL','UVEL.'+'{:010d}'.format(iter_numbers[i])+'.data')\n",
    "    \n",
    "    # define the meridional velocity file after one year\n",
    "    v_file = os.path.join(model_path,'run','diags','VVEL','VVEL.'+'{:010d}'.format(iter_numbers[i])+'.data')\n",
    "    \n",
    "    # read in the zonal and meridional current velocity grids\n",
    "    u_grid = np.fromfile(u_file, '>f4').reshape(n_rows,n_cols)\n",
    "    v_grid = np.fromfile(v_file, '>f4').reshape(n_rows,n_cols)\n",
    "    \n",
    "    # compute the speed as a grid\n",
    "    speed_grid = (u_grid**2 + v_grid**2)**0.5\n",
    "    \n",
    "    # plot the speed with streamlines\n",
    "    C = plt.pcolormesh(X, Y, speed_grid, cmap='turbo', vmin=0, vmax=0.05)\n",
    "    plt.streamplot(X, Y, u_grid, v_grid, linewidth=0.5, color='k')\n",
    "    plt.title('Iteration: '+str(iter_numbers[i]))\n",
    "    plt.gca().set_xticks([])\n",
    "    plt.gca().set_yticks([])\n",
    "    \n",
    "plt.show()"
   ]
  },
  {
   "cell_type": "markdown",
   "id": "857ca13e-55c2-47e6-a072-2eb973a3ead6",
   "metadata": {},
   "source": [
    "### &#x1F914; Try It Youself: Sea Surface Height\n",
    "Modify the model to also output the `ETAN` variable from the `diagnostics` package. After running the model for an additional year, plot the sea surface height fields in panels as was done above."
   ]
  },
  {
   "cell_type": "code",
   "execution_count": null,
   "id": "274ed457-2619-4e53-a2e9-f16ecfbc08b1",
   "metadata": {},
   "outputs": [],
   "source": [
    "#enter your code here\n",
    "# recommended approximate color bounds: vmin=-0.03, vmax=0.05\n"
   ]
  },
  {
   "cell_type": "markdown",
   "id": "d58fd826-11a4-446f-ba7d-f92478c90e73",
   "metadata": {},
   "source": [
    "### &#x1F914; Try It Youself: The Model In Steady State\n",
    "Modify the model to run for an additional two years. After running, plot either the currents or the sea surface height fields at 1 year and at 3 years to observe the differences."
   ]
  },
  {
   "cell_type": "code",
   "execution_count": null,
   "id": "33143894-a089-4fd1-8307-38236fdb91e7",
   "metadata": {},
   "outputs": [],
   "source": [
    "# enter your code here to read in the data\n",
    "\n"
   ]
  },
  {
   "cell_type": "code",
   "execution_count": null,
   "id": "f22895a5-2e8c-4624-8c88-97bb7ac3e7c0",
   "metadata": {},
   "outputs": [],
   "source": [
    "# enter your code here to plot the fields side-by-side\n",
    "# the left panel should be the 1-year plot\n",
    "# the right panel should be the 3-year plot\n",
    "\n"
   ]
  }
 ],
 "metadata": {
  "kernelspec": {
   "display_name": "cs185c",
   "language": "python",
   "name": "cs185c"
  },
  "language_info": {
   "codemirror_mode": {
    "name": "ipython",
    "version": 3
   },
   "file_extension": ".py",
   "mimetype": "text/x-python",
   "name": "python",
   "nbconvert_exporter": "python",
   "pygments_lexer": "ipython3",
   "version": "3.11.11"
  }
 },
 "nbformat": 4,
 "nbformat_minor": 5
}
