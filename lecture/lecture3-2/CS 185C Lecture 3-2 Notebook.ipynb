{
 "cells": [
  {
   "cell_type": "markdown",
   "id": "bb5b1db9-ca21-4321-832a-3897a594c7ab",
   "metadata": {},
   "source": [
    "# Visualizing Model Output - Part 2\n",
    "\n",
    "#### Overview\n",
    "In this notebook, we will continue looking at ways to visualize ocean model output. As in previous lessons, we will use output from the ECCO Ocean State Estimate (Version 5).\n",
    "\n",
    "#### Import Modules\n",
    "First, import the modules required to access data from netCDF files and create plots:"
   ]
  },
  {
   "cell_type": "code",
   "execution_count": 1,
   "id": "abc63303-5d4e-48c5-a57e-7d4fd605cc41",
   "metadata": {},
   "outputs": [],
   "source": [
    "import os\n",
    "import numpy as np\n",
    "import matplotlib.pyplot as plt\n",
    "import xarray as xr\n",
    "import cartopy.crs as ccrs\n",
    "import cartopy.feature as cfeature\n",
    "import cmocean.cm as cm\n",
    "import moviepy.video.io.ImageSequenceClip"
   ]
  },
  {
   "cell_type": "markdown",
   "id": "cca1aada",
   "metadata": {},
   "source": [
    "### Defining the data path\n",
    "As in the previous lesson, we will use data stored on our external drive. Begin by defining the path to your data folder:"
   ]
  },
  {
   "cell_type": "code",
   "execution_count": 2,
   "id": "6db8003a-6d1d-4897-bb51-33e1334d288c",
   "metadata": {},
   "outputs": [],
   "source": [
    "# Define a path to a data folder\n",
    "data_folder = 'C:\\\\Users\\\\tandre\\\\Desktop\\\\Spring 2025\\\\cs185c\\\\data'"
   ]
  },
  {
   "cell_type": "markdown",
   "id": "987b30e7-bf10-4fda-9abe-41795e638d1a",
   "metadata": {},
   "source": [
    "## Download Daily Data\n",
    "Following the steps established in Lecture 3-1, start by downloading all of the daily sea surface temperature data:\n",
    "\n",
    "```\n",
    "version = 'Version4'\n",
    "release = 'Release4'\n",
    "subset = 'interp_monthly'\n",
    "var_name = 'SIarea'\n",
    "start_year = 2015\n",
    "end_year = 2015\n",
    "```"
   ]
  },
  {
   "cell_type": "markdown",
   "id": "d1b66fb3-a486-43f4-b99a-f77e244bbb3f",
   "metadata": {},
   "source": [
    "In previous notebooks, we've plotted our data in longitude-latitude coordinates. Let's take a first look at some of the sea ice data by making a quick plot:"
   ]
  },
  {
   "cell_type": "code",
   "execution_count": 3,
   "id": "92162376",
   "metadata": {},
   "outputs": [
    {
     "ename": "FileNotFoundError",
     "evalue": "[Errno 2] No such file or directory: b'C:\\\\Users\\\\tandre\\\\Desktop\\\\Spring 2025\\\\cs185c\\\\data\\\\ECCO\\\\Version4\\\\Release4\\\\interp_monthly\\\\SIarea\\\\SIarea_2015_01.nc'",
     "output_type": "error",
     "traceback": [
      "\u001b[1;31m---------------------------------------------------------------------------\u001b[0m",
      "\u001b[1;31mKeyError\u001b[0m                                  Traceback (most recent call last)",
      "File \u001b[1;32m~\\miniconda3\\envs\\cs185c\\Lib\\site-packages\\xarray\\backends\\file_manager.py:211\u001b[0m, in \u001b[0;36mCachingFileManager._acquire_with_cache_info\u001b[1;34m(self, needs_lock)\u001b[0m\n\u001b[0;32m    210\u001b[0m \u001b[38;5;28;01mtry\u001b[39;00m:\n\u001b[1;32m--> 211\u001b[0m     file \u001b[38;5;241m=\u001b[39m \u001b[38;5;28mself\u001b[39m\u001b[38;5;241m.\u001b[39m_cache[\u001b[38;5;28mself\u001b[39m\u001b[38;5;241m.\u001b[39m_key]\n\u001b[0;32m    212\u001b[0m \u001b[38;5;28;01mexcept\u001b[39;00m \u001b[38;5;167;01mKeyError\u001b[39;00m:\n",
      "File \u001b[1;32m~\\miniconda3\\envs\\cs185c\\Lib\\site-packages\\xarray\\backends\\lru_cache.py:56\u001b[0m, in \u001b[0;36mLRUCache.__getitem__\u001b[1;34m(self, key)\u001b[0m\n\u001b[0;32m     55\u001b[0m \u001b[38;5;28;01mwith\u001b[39;00m \u001b[38;5;28mself\u001b[39m\u001b[38;5;241m.\u001b[39m_lock:\n\u001b[1;32m---> 56\u001b[0m     value \u001b[38;5;241m=\u001b[39m \u001b[38;5;28mself\u001b[39m\u001b[38;5;241m.\u001b[39m_cache[key]\n\u001b[0;32m     57\u001b[0m     \u001b[38;5;28mself\u001b[39m\u001b[38;5;241m.\u001b[39m_cache\u001b[38;5;241m.\u001b[39mmove_to_end(key)\n",
      "\u001b[1;31mKeyError\u001b[0m: [<class 'netCDF4._netCDF4.Dataset'>, ('C:\\\\Users\\\\tandre\\\\Desktop\\\\Spring 2025\\\\cs185c\\\\data\\\\ECCO\\\\Version4\\\\Release4\\\\interp_monthly\\\\SIarea\\\\SIarea_2015_01.nc',), 'r', (('clobber', True), ('diskless', False), ('format', 'NETCDF4'), ('persist', False)), 'cc3c56bc-3a92-43e8-b857-cc54983a5982']",
      "\nDuring handling of the above exception, another exception occurred:\n",
      "\u001b[1;31mFileNotFoundError\u001b[0m                         Traceback (most recent call last)",
      "Cell \u001b[1;32mIn[3], line 7\u001b[0m\n\u001b[0;32m      2\u001b[0m seaice_file \u001b[38;5;241m=\u001b[39m os\u001b[38;5;241m.\u001b[39mpath\u001b[38;5;241m.\u001b[39mjoin(data_folder,\u001b[38;5;124m'\u001b[39m\u001b[38;5;124mECCO\u001b[39m\u001b[38;5;124m'\u001b[39m,\u001b[38;5;124m'\u001b[39m\u001b[38;5;124mVersion4\u001b[39m\u001b[38;5;124m'\u001b[39m,\u001b[38;5;124m'\u001b[39m\u001b[38;5;124mRelease4\u001b[39m\u001b[38;5;124m'\u001b[39m,\n\u001b[0;32m      3\u001b[0m                           \u001b[38;5;124m'\u001b[39m\u001b[38;5;124minterp_monthly\u001b[39m\u001b[38;5;124m'\u001b[39m,\u001b[38;5;124m'\u001b[39m\u001b[38;5;124mSIarea\u001b[39m\u001b[38;5;124m'\u001b[39m,\u001b[38;5;124m'\u001b[39m\u001b[38;5;124mSIarea_2015_01.nc\u001b[39m\u001b[38;5;124m'\u001b[39m)\n\u001b[0;32m      5\u001b[0m \u001b[38;5;66;03m# read in the sea ice data at along with the\u001b[39;00m\n\u001b[0;32m      6\u001b[0m \u001b[38;5;66;03m# latitude and longitude information \u001b[39;00m\n\u001b[1;32m----> 7\u001b[0m ds \u001b[38;5;241m=\u001b[39m xr\u001b[38;5;241m.\u001b[39mopen_dataset(seaice_file)\n\u001b[0;32m      8\u001b[0m longitude \u001b[38;5;241m=\u001b[39m np\u001b[38;5;241m.\u001b[39marray(ds[\u001b[38;5;124m'\u001b[39m\u001b[38;5;124mlongitude\u001b[39m\u001b[38;5;124m'\u001b[39m][:])\n\u001b[0;32m      9\u001b[0m longitude\n",
      "File \u001b[1;32m~\\miniconda3\\envs\\cs185c\\Lib\\site-packages\\xarray\\backends\\api.py:670\u001b[0m, in \u001b[0;36mopen_dataset\u001b[1;34m(filename_or_obj, engine, chunks, cache, decode_cf, mask_and_scale, decode_times, decode_timedelta, use_cftime, concat_characters, decode_coords, drop_variables, inline_array, chunked_array_type, from_array_kwargs, backend_kwargs, **kwargs)\u001b[0m\n\u001b[0;32m    658\u001b[0m decoders \u001b[38;5;241m=\u001b[39m _resolve_decoders_kwargs(\n\u001b[0;32m    659\u001b[0m     decode_cf,\n\u001b[0;32m    660\u001b[0m     open_backend_dataset_parameters\u001b[38;5;241m=\u001b[39mbackend\u001b[38;5;241m.\u001b[39mopen_dataset_parameters,\n\u001b[1;32m   (...)\u001b[0m\n\u001b[0;32m    666\u001b[0m     decode_coords\u001b[38;5;241m=\u001b[39mdecode_coords,\n\u001b[0;32m    667\u001b[0m )\n\u001b[0;32m    669\u001b[0m overwrite_encoded_chunks \u001b[38;5;241m=\u001b[39m kwargs\u001b[38;5;241m.\u001b[39mpop(\u001b[38;5;124m\"\u001b[39m\u001b[38;5;124moverwrite_encoded_chunks\u001b[39m\u001b[38;5;124m\"\u001b[39m, \u001b[38;5;28;01mNone\u001b[39;00m)\n\u001b[1;32m--> 670\u001b[0m backend_ds \u001b[38;5;241m=\u001b[39m backend\u001b[38;5;241m.\u001b[39mopen_dataset(\n\u001b[0;32m    671\u001b[0m     filename_or_obj,\n\u001b[0;32m    672\u001b[0m     drop_variables\u001b[38;5;241m=\u001b[39mdrop_variables,\n\u001b[0;32m    673\u001b[0m     \u001b[38;5;241m*\u001b[39m\u001b[38;5;241m*\u001b[39mdecoders,\n\u001b[0;32m    674\u001b[0m     \u001b[38;5;241m*\u001b[39m\u001b[38;5;241m*\u001b[39mkwargs,\n\u001b[0;32m    675\u001b[0m )\n\u001b[0;32m    676\u001b[0m ds \u001b[38;5;241m=\u001b[39m _dataset_from_backend_dataset(\n\u001b[0;32m    677\u001b[0m     backend_ds,\n\u001b[0;32m    678\u001b[0m     filename_or_obj,\n\u001b[1;32m   (...)\u001b[0m\n\u001b[0;32m    688\u001b[0m     \u001b[38;5;241m*\u001b[39m\u001b[38;5;241m*\u001b[39mkwargs,\n\u001b[0;32m    689\u001b[0m )\n\u001b[0;32m    690\u001b[0m \u001b[38;5;28;01mreturn\u001b[39;00m ds\n",
      "File \u001b[1;32m~\\miniconda3\\envs\\cs185c\\Lib\\site-packages\\xarray\\backends\\netCDF4_.py:666\u001b[0m, in \u001b[0;36mNetCDF4BackendEntrypoint.open_dataset\u001b[1;34m(self, filename_or_obj, mask_and_scale, decode_times, concat_characters, decode_coords, drop_variables, use_cftime, decode_timedelta, group, mode, format, clobber, diskless, persist, auto_complex, lock, autoclose)\u001b[0m\n\u001b[0;32m    644\u001b[0m \u001b[38;5;28;01mdef\u001b[39;00m \u001b[38;5;21mopen_dataset\u001b[39m(\n\u001b[0;32m    645\u001b[0m     \u001b[38;5;28mself\u001b[39m,\n\u001b[0;32m    646\u001b[0m     filename_or_obj: \u001b[38;5;28mstr\u001b[39m \u001b[38;5;241m|\u001b[39m os\u001b[38;5;241m.\u001b[39mPathLike[Any] \u001b[38;5;241m|\u001b[39m ReadBuffer \u001b[38;5;241m|\u001b[39m AbstractDataStore,\n\u001b[1;32m   (...)\u001b[0m\n\u001b[0;32m    663\u001b[0m     autoclose\u001b[38;5;241m=\u001b[39m\u001b[38;5;28;01mFalse\u001b[39;00m,\n\u001b[0;32m    664\u001b[0m ) \u001b[38;5;241m-\u001b[39m\u001b[38;5;241m>\u001b[39m Dataset:\n\u001b[0;32m    665\u001b[0m     filename_or_obj \u001b[38;5;241m=\u001b[39m _normalize_path(filename_or_obj)\n\u001b[1;32m--> 666\u001b[0m     store \u001b[38;5;241m=\u001b[39m NetCDF4DataStore\u001b[38;5;241m.\u001b[39mopen(\n\u001b[0;32m    667\u001b[0m         filename_or_obj,\n\u001b[0;32m    668\u001b[0m         mode\u001b[38;5;241m=\u001b[39mmode,\n\u001b[0;32m    669\u001b[0m         \u001b[38;5;28mformat\u001b[39m\u001b[38;5;241m=\u001b[39m\u001b[38;5;28mformat\u001b[39m,\n\u001b[0;32m    670\u001b[0m         group\u001b[38;5;241m=\u001b[39mgroup,\n\u001b[0;32m    671\u001b[0m         clobber\u001b[38;5;241m=\u001b[39mclobber,\n\u001b[0;32m    672\u001b[0m         diskless\u001b[38;5;241m=\u001b[39mdiskless,\n\u001b[0;32m    673\u001b[0m         persist\u001b[38;5;241m=\u001b[39mpersist,\n\u001b[0;32m    674\u001b[0m         auto_complex\u001b[38;5;241m=\u001b[39mauto_complex,\n\u001b[0;32m    675\u001b[0m         lock\u001b[38;5;241m=\u001b[39mlock,\n\u001b[0;32m    676\u001b[0m         autoclose\u001b[38;5;241m=\u001b[39mautoclose,\n\u001b[0;32m    677\u001b[0m     )\n\u001b[0;32m    679\u001b[0m     store_entrypoint \u001b[38;5;241m=\u001b[39m StoreBackendEntrypoint()\n\u001b[0;32m    680\u001b[0m     \u001b[38;5;28;01mwith\u001b[39;00m close_on_error(store):\n",
      "File \u001b[1;32m~\\miniconda3\\envs\\cs185c\\Lib\\site-packages\\xarray\\backends\\netCDF4_.py:452\u001b[0m, in \u001b[0;36mNetCDF4DataStore.open\u001b[1;34m(cls, filename, mode, format, group, clobber, diskless, persist, auto_complex, lock, lock_maker, autoclose)\u001b[0m\n\u001b[0;32m    448\u001b[0m     kwargs[\u001b[38;5;124m\"\u001b[39m\u001b[38;5;124mauto_complex\u001b[39m\u001b[38;5;124m\"\u001b[39m] \u001b[38;5;241m=\u001b[39m auto_complex\n\u001b[0;32m    449\u001b[0m manager \u001b[38;5;241m=\u001b[39m CachingFileManager(\n\u001b[0;32m    450\u001b[0m     netCDF4\u001b[38;5;241m.\u001b[39mDataset, filename, mode\u001b[38;5;241m=\u001b[39mmode, kwargs\u001b[38;5;241m=\u001b[39mkwargs\n\u001b[0;32m    451\u001b[0m )\n\u001b[1;32m--> 452\u001b[0m \u001b[38;5;28;01mreturn\u001b[39;00m \u001b[38;5;28mcls\u001b[39m(manager, group\u001b[38;5;241m=\u001b[39mgroup, mode\u001b[38;5;241m=\u001b[39mmode, lock\u001b[38;5;241m=\u001b[39mlock, autoclose\u001b[38;5;241m=\u001b[39mautoclose)\n",
      "File \u001b[1;32m~\\miniconda3\\envs\\cs185c\\Lib\\site-packages\\xarray\\backends\\netCDF4_.py:393\u001b[0m, in \u001b[0;36mNetCDF4DataStore.__init__\u001b[1;34m(self, manager, group, mode, lock, autoclose)\u001b[0m\n\u001b[0;32m    391\u001b[0m \u001b[38;5;28mself\u001b[39m\u001b[38;5;241m.\u001b[39m_group \u001b[38;5;241m=\u001b[39m group\n\u001b[0;32m    392\u001b[0m \u001b[38;5;28mself\u001b[39m\u001b[38;5;241m.\u001b[39m_mode \u001b[38;5;241m=\u001b[39m mode\n\u001b[1;32m--> 393\u001b[0m \u001b[38;5;28mself\u001b[39m\u001b[38;5;241m.\u001b[39mformat \u001b[38;5;241m=\u001b[39m \u001b[38;5;28mself\u001b[39m\u001b[38;5;241m.\u001b[39mds\u001b[38;5;241m.\u001b[39mdata_model\n\u001b[0;32m    394\u001b[0m \u001b[38;5;28mself\u001b[39m\u001b[38;5;241m.\u001b[39m_filename \u001b[38;5;241m=\u001b[39m \u001b[38;5;28mself\u001b[39m\u001b[38;5;241m.\u001b[39mds\u001b[38;5;241m.\u001b[39mfilepath()\n\u001b[0;32m    395\u001b[0m \u001b[38;5;28mself\u001b[39m\u001b[38;5;241m.\u001b[39mis_remote \u001b[38;5;241m=\u001b[39m is_remote_uri(\u001b[38;5;28mself\u001b[39m\u001b[38;5;241m.\u001b[39m_filename)\n",
      "File \u001b[1;32m~\\miniconda3\\envs\\cs185c\\Lib\\site-packages\\xarray\\backends\\netCDF4_.py:461\u001b[0m, in \u001b[0;36mNetCDF4DataStore.ds\u001b[1;34m(self)\u001b[0m\n\u001b[0;32m    459\u001b[0m \u001b[38;5;129m@property\u001b[39m\n\u001b[0;32m    460\u001b[0m \u001b[38;5;28;01mdef\u001b[39;00m \u001b[38;5;21mds\u001b[39m(\u001b[38;5;28mself\u001b[39m):\n\u001b[1;32m--> 461\u001b[0m     \u001b[38;5;28;01mreturn\u001b[39;00m \u001b[38;5;28mself\u001b[39m\u001b[38;5;241m.\u001b[39m_acquire()\n",
      "File \u001b[1;32m~\\miniconda3\\envs\\cs185c\\Lib\\site-packages\\xarray\\backends\\netCDF4_.py:455\u001b[0m, in \u001b[0;36mNetCDF4DataStore._acquire\u001b[1;34m(self, needs_lock)\u001b[0m\n\u001b[0;32m    454\u001b[0m \u001b[38;5;28;01mdef\u001b[39;00m \u001b[38;5;21m_acquire\u001b[39m(\u001b[38;5;28mself\u001b[39m, needs_lock\u001b[38;5;241m=\u001b[39m\u001b[38;5;28;01mTrue\u001b[39;00m):\n\u001b[1;32m--> 455\u001b[0m     \u001b[38;5;28;01mwith\u001b[39;00m \u001b[38;5;28mself\u001b[39m\u001b[38;5;241m.\u001b[39m_manager\u001b[38;5;241m.\u001b[39macquire_context(needs_lock) \u001b[38;5;28;01mas\u001b[39;00m root:\n\u001b[0;32m    456\u001b[0m         ds \u001b[38;5;241m=\u001b[39m _nc4_require_group(root, \u001b[38;5;28mself\u001b[39m\u001b[38;5;241m.\u001b[39m_group, \u001b[38;5;28mself\u001b[39m\u001b[38;5;241m.\u001b[39m_mode)\n\u001b[0;32m    457\u001b[0m     \u001b[38;5;28;01mreturn\u001b[39;00m ds\n",
      "File \u001b[1;32m~\\miniconda3\\envs\\cs185c\\Lib\\contextlib.py:137\u001b[0m, in \u001b[0;36m_GeneratorContextManager.__enter__\u001b[1;34m(self)\u001b[0m\n\u001b[0;32m    135\u001b[0m \u001b[38;5;28;01mdel\u001b[39;00m \u001b[38;5;28mself\u001b[39m\u001b[38;5;241m.\u001b[39margs, \u001b[38;5;28mself\u001b[39m\u001b[38;5;241m.\u001b[39mkwds, \u001b[38;5;28mself\u001b[39m\u001b[38;5;241m.\u001b[39mfunc\n\u001b[0;32m    136\u001b[0m \u001b[38;5;28;01mtry\u001b[39;00m:\n\u001b[1;32m--> 137\u001b[0m     \u001b[38;5;28;01mreturn\u001b[39;00m \u001b[38;5;28mnext\u001b[39m(\u001b[38;5;28mself\u001b[39m\u001b[38;5;241m.\u001b[39mgen)\n\u001b[0;32m    138\u001b[0m \u001b[38;5;28;01mexcept\u001b[39;00m \u001b[38;5;167;01mStopIteration\u001b[39;00m:\n\u001b[0;32m    139\u001b[0m     \u001b[38;5;28;01mraise\u001b[39;00m \u001b[38;5;167;01mRuntimeError\u001b[39;00m(\u001b[38;5;124m\"\u001b[39m\u001b[38;5;124mgenerator didn\u001b[39m\u001b[38;5;124m'\u001b[39m\u001b[38;5;124mt yield\u001b[39m\u001b[38;5;124m\"\u001b[39m) \u001b[38;5;28;01mfrom\u001b[39;00m \u001b[38;5;28;01mNone\u001b[39;00m\n",
      "File \u001b[1;32m~\\miniconda3\\envs\\cs185c\\Lib\\site-packages\\xarray\\backends\\file_manager.py:199\u001b[0m, in \u001b[0;36mCachingFileManager.acquire_context\u001b[1;34m(self, needs_lock)\u001b[0m\n\u001b[0;32m    196\u001b[0m \u001b[38;5;129m@contextlib\u001b[39m\u001b[38;5;241m.\u001b[39mcontextmanager\n\u001b[0;32m    197\u001b[0m \u001b[38;5;28;01mdef\u001b[39;00m \u001b[38;5;21macquire_context\u001b[39m(\u001b[38;5;28mself\u001b[39m, needs_lock\u001b[38;5;241m=\u001b[39m\u001b[38;5;28;01mTrue\u001b[39;00m):\n\u001b[0;32m    198\u001b[0m \u001b[38;5;250m    \u001b[39m\u001b[38;5;124;03m\"\"\"Context manager for acquiring a file.\"\"\"\u001b[39;00m\n\u001b[1;32m--> 199\u001b[0m     file, cached \u001b[38;5;241m=\u001b[39m \u001b[38;5;28mself\u001b[39m\u001b[38;5;241m.\u001b[39m_acquire_with_cache_info(needs_lock)\n\u001b[0;32m    200\u001b[0m     \u001b[38;5;28;01mtry\u001b[39;00m:\n\u001b[0;32m    201\u001b[0m         \u001b[38;5;28;01myield\u001b[39;00m file\n",
      "File \u001b[1;32m~\\miniconda3\\envs\\cs185c\\Lib\\site-packages\\xarray\\backends\\file_manager.py:217\u001b[0m, in \u001b[0;36mCachingFileManager._acquire_with_cache_info\u001b[1;34m(self, needs_lock)\u001b[0m\n\u001b[0;32m    215\u001b[0m     kwargs \u001b[38;5;241m=\u001b[39m kwargs\u001b[38;5;241m.\u001b[39mcopy()\n\u001b[0;32m    216\u001b[0m     kwargs[\u001b[38;5;124m\"\u001b[39m\u001b[38;5;124mmode\u001b[39m\u001b[38;5;124m\"\u001b[39m] \u001b[38;5;241m=\u001b[39m \u001b[38;5;28mself\u001b[39m\u001b[38;5;241m.\u001b[39m_mode\n\u001b[1;32m--> 217\u001b[0m file \u001b[38;5;241m=\u001b[39m \u001b[38;5;28mself\u001b[39m\u001b[38;5;241m.\u001b[39m_opener(\u001b[38;5;241m*\u001b[39m\u001b[38;5;28mself\u001b[39m\u001b[38;5;241m.\u001b[39m_args, \u001b[38;5;241m*\u001b[39m\u001b[38;5;241m*\u001b[39mkwargs)\n\u001b[0;32m    218\u001b[0m \u001b[38;5;28;01mif\u001b[39;00m \u001b[38;5;28mself\u001b[39m\u001b[38;5;241m.\u001b[39m_mode \u001b[38;5;241m==\u001b[39m \u001b[38;5;124m\"\u001b[39m\u001b[38;5;124mw\u001b[39m\u001b[38;5;124m\"\u001b[39m:\n\u001b[0;32m    219\u001b[0m     \u001b[38;5;66;03m# ensure file doesn't get overridden when opened again\u001b[39;00m\n\u001b[0;32m    220\u001b[0m     \u001b[38;5;28mself\u001b[39m\u001b[38;5;241m.\u001b[39m_mode \u001b[38;5;241m=\u001b[39m \u001b[38;5;124m\"\u001b[39m\u001b[38;5;124ma\u001b[39m\u001b[38;5;124m\"\u001b[39m\n",
      "File \u001b[1;32msrc\\netCDF4\\_netCDF4.pyx:2463\u001b[0m, in \u001b[0;36mnetCDF4._netCDF4.Dataset.__init__\u001b[1;34m()\u001b[0m\n",
      "File \u001b[1;32msrc\\netCDF4\\_netCDF4.pyx:2026\u001b[0m, in \u001b[0;36mnetCDF4._netCDF4._ensure_nc_success\u001b[1;34m()\u001b[0m\n",
      "\u001b[1;31mFileNotFoundError\u001b[0m: [Errno 2] No such file or directory: b'C:\\\\Users\\\\tandre\\\\Desktop\\\\Spring 2025\\\\cs185c\\\\data\\\\ECCO\\\\Version4\\\\Release4\\\\interp_monthly\\\\SIarea\\\\SIarea_2015_01.nc'"
     ]
    }
   ],
   "source": [
    "# make a path to a sea ice file\n",
    "seaice_file = os.path.join(data_folder,'ECCO','Version4','Release4',\n",
    "                          'interp_monthly','SIarea','SIarea_2015_01.nc')\n",
    "\n",
    "# read in the sea ice data at along with the\n",
    "# latitude and longitude information \n",
    "ds = xr.open_dataset(seaice_file)\n",
    "longitude = np.array(ds['longitude'][:])\n",
    "longitude\n",
    "latitude = np.array(ds['latitude'][:])\n",
    "SIarea = np.array(ds['SIarea'][:])\n",
    "ds.close()\n",
    "\n",
    "# subset sea ice to the first time step\n",
    "SIarea = SIarea[0,:,:]"
   ]
  },
  {
   "cell_type": "markdown",
   "id": "d24df19e-d563-4297-a0ae-a4b32f40cac9",
   "metadata": {},
   "source": [
    "If we plot the sea ice field as we did in lessons 2-1 and 2-2, we see a map that looks roughly like the globe:"
   ]
  },
  {
   "cell_type": "code",
   "execution_count": null,
   "id": "0c3e090f-cd91-4507-be4c-4003f01276e5",
   "metadata": {},
   "outputs": [],
   "source": [
    "# create a figure object\n",
    "fig = plt.figure()\n",
    "\n",
    "# plot the temperature\n",
    "plt.pcolormesh(longitude, latitude, SIarea, vmin=0, vmax=1, cmap=cm.ice)\n",
    "plt.colorbar(orientation = 'horizontal')\n",
    "\n",
    "# format the axes\n",
    "plt.xlabel('Longitude')\n",
    "plt.ylabel('Latitude')\n",
    "plt.title('Sea Ice Fraction')\n",
    "plt.show()"
   ]
  },
  {
   "cell_type": "markdown",
   "id": "2919c728-0502-4e80-9328-b085b848bf42",
   "metadata": {},
   "source": [
    "Looking at the sea ice data in this view is a little silly because our map is focused on the equator while the sea ice is at the poles. One way we could modify this is by changing the *projection* of our map."
   ]
  },
  {
   "cell_type": "markdown",
   "id": "ae4b47a7",
   "metadata": {},
   "source": [
    "## Part 2: Plotting with Cartopy\n",
    "When we are working with numerical ocean model data, our numerical models represent locations on the globe. In these situations, it is helpful to plot our data in a projection that represents this aspect of our data. With this in mind, we'll invstigate plotting with the `cartopy` package which refers to **carto**graphy with **py**thon. "
   ]
  },
  {
   "cell_type": "markdown",
   "id": "56bf2d78-759f-477a-89e5-456c193b3116",
   "metadata": {},
   "source": [
    "In looking at the plot above, there's at least two things that are dissatisfying. First, the world is very distorted at the poles. Second, the continents are filled in with a default value of 0, which is a the same value given to areas of no sea ice - kinda confusing. We can remedy both of these using `cartopy` by choosing a better projection for our data and adding polygons that cover the coastline. \n",
    "\n",
    "Take a look at the plotting code below:"
   ]
  },
  {
   "cell_type": "code",
   "execution_count": null,
   "id": "b2787e66-9ea9-4838-b17e-e3c4f3f65dd5",
   "metadata": {},
   "outputs": [],
   "source": [
    "# create a figure object\n",
    "fig = plt.figure()\n",
    "ax = plt.axes(projection=ccrs.Mollweide())\n",
    "\n",
    "# plot the seaice\n",
    "plt.pcolormesh(longitude, latitude, SIarea, vmin=0, vmax=1, cmap=cm.ice,\n",
    "               transform=ccrs.PlateCarree())\n",
    "plt.colorbar(orientation = 'horizontal')\n",
    "\n",
    "# add coastlines\n",
    "plt.gca().add_feature(cfeature.LAND, zorder=99, facecolor='silver')\n",
    "plt.gca().coastlines()\n",
    "\n",
    "# format the axes\n",
    "plt.title('Sea Ice Fraction')\n",
    "plt.show()"
   ]
  },
  {
   "cell_type": "markdown",
   "id": "425d50e4-e4bc-4a20-9c66-3186a36d349c",
   "metadata": {},
   "source": [
    "### &#x1F914; Spot the differences\n",
    "What are the key differences between the code that generates the plot above compared to the previous plot?\n",
    "\n",
    "A projection parameter is used to project the results of the plot onto a specified shape.\n",
    "Also, plt.gca() is used to add features like coastlines and landmasses on the map."
   ]
  },
  {
   "cell_type": "markdown",
   "id": "043c2a61-38c7-48c4-b39a-a1e56f338bf4",
   "metadata": {
    "jp-MarkdownHeadingCollapsed": true
   },
   "source": [
    "### Projections\n",
    "As you can see above, the axes object provides the projection system for the map. We see that a `projection` parameter has been set to a specific projection - in this case the `Robinson` projection. The `cartopy` package has a variety of different projections for plotting mapped data. Test some of the following common projections by modifying the plot above:\n",
    "\n",
    "| Projection Code | Default Parameters |\n",
    "|-----------------|--------------------|\n",
    "| PlateCarree()  | central_longitude=0.0 |\n",
    "| Mollweide()     | central_longitude=0.0 |\n",
    "| Orthographic()  | central_longitude=0.0, central_latitude=0.0 |\n",
    "| Robinson()      | central_longitude=0.0 |\n",
    "| InterruptedGoodeHomolosine() | central_longitude=0.0 |\n",
    "\n",
    "When you find your favorite projection, try changing the default central longitude/latitude to see how the plot changes."
   ]
  },
  {
   "cell_type": "markdown",
   "id": "d3528296-881a-4388-b78e-7ce2e435c42d",
   "metadata": {},
   "source": [
    "### &#x2757; Note\n",
    "In the plot above, the `transform=ccrs.PlateCarree()` keyword is crucial to plotting the data correctly. This line tells `cartopy` that the data is in longitude-latitude coordinates. Without this keyword, there is no way that `cartopy` will know how to put the data on the map."
   ]
  },
  {
   "cell_type": "markdown",
   "id": "0597d9b6-c28b-48a8-8844-3f055e2022d8",
   "metadata": {},
   "source": [
    "## Part 2: Figures and Functions\n",
    "In the subsequent sections, we're going to take a look at how to create movies in Python but first, we're going to build up some machinery to create the frames of our movie. After we've created our frames, it will be easy to string them together into a movie.\n",
    "\n",
    "First, let's define a function called `plot_frame` to make a plot. This function should take in two input arguments: the sea ice field and a file path."
   ]
  },
  {
   "cell_type": "code",
   "execution_count": null,
   "id": "73f198ba-4b07-41e0-a50d-edf2fc428e8d",
   "metadata": {},
   "outputs": [],
   "source": [
    "# adapt the code below in to a function\n",
    "# called plot_frame that takes SIarea and the file_path as arguments\n",
    "\n",
    "def plot_frame(SIarea, file_path):\n",
    "\n",
    "    #file_path=file_path\n",
    "    # make a figure object with projection\n",
    "    fig = plt.figure(figsize=(6,6))\n",
    "    ax = plt.axes(projection=ccrs.Orthographic(central_latitude = 80))\n",
    "\n",
    "    # plot the sea ice field\n",
    "    plt.pcolormesh(longitude, latitude, SIarea, vmin=0, vmax=1, cmap=cm.ice,\n",
    "               transform=ccrs.PlateCarree())\n",
    "    plt.colorbar(orientation = 'horizontal', label='Sea Ice Concentration')\n",
    "\n",
    "    # add coastlines\n",
    "    plt.gca().add_feature(cfeature.LAND, zorder=99, facecolor='silver')\n",
    "    plt.gca().coastlines()\n",
    "\n",
    "    # format the axes\n",
    "    plt.title('Sea Ice Fraction')\n",
    "\n",
    "    # save the figure\n",
    "    plt.savefig(file_path)\n",
    "    plt.close(fig)"
   ]
  },
  {
   "cell_type": "markdown",
   "id": "b75659e7-b49c-4b32-8b0b-e59f28ff1f7a",
   "metadata": {},
   "source": [
    "Once you're happy with your code, we can test it out with the data we've read in for Jan 15 above:"
   ]
  },
  {
   "cell_type": "code",
   "execution_count": null,
   "id": "37b88581-2a9b-4f8d-a100-1e0e03abd307",
   "metadata": {},
   "outputs": [],
   "source": [
    "# define a path to a directory for your frames directory\n",
    "frames_directory = '.\\\\frames'\n",
    "\n",
    "# define an output path for your frame\n",
    "file_path = os.path.join(frames_directory,'SIarea_2015_01.png')\n",
    "\n",
    "# test your plotting function here\n",
    "plot_frame(SIarea, file_path)"
   ]
  },
  {
   "cell_type": "code",
   "execution_count": null,
   "id": "3661b74e-bb81-4966-8b3b-6b1ff2b05f98",
   "metadata": {},
   "outputs": [],
   "source": [
    "file_list = []\n",
    "for i in range(1,13):\n",
    "    name = 'SIarea_2015_' + '{:02d}'.format(i)\n",
    "    \n",
    "    # make a path to a sea ice file\n",
    "    seaice_file = os.path.join(data_folder,'ECCO','Version4','Release4',\n",
    "                              'interp_monthly','SIarea', name +'.nc')\n",
    "    \n",
    "    # read in the sea ice data at along with the\n",
    "    # latitude and longitude information \n",
    "    ds = xr.open_dataset(seaice_file)\n",
    "    longitude = np.array(ds['longitude'][:])\n",
    "    latitude = np.array(ds['latitude'][:])\n",
    "    SIarea = np.array(ds['SIarea'][:])\n",
    "    ds.close()\n",
    "\n",
    "    # subset sea ice to the first time step\n",
    "    SIarea = SIarea[0,:,:]\n",
    "\n",
    "    file_list.append(file_path)\n",
    "    file_path=os.path.join(frames_directory, name + '.png')\n",
    "    \n",
    "    plot_frame(SIarea, file_path)"
   ]
  },
  {
   "cell_type": "markdown",
   "id": "b6c238c7-cc9f-4644-9e36-9b03392d12ff",
   "metadata": {},
   "source": [
    "Now that we've created out images, we're ready to stitch them together to make a movie! We'll tackle this task in class on Tuesday."
   ]
  },
  {
   "cell_type": "markdown",
   "id": "471af3d5",
   "metadata": {},
   "source": []
  },
  {
   "cell_type": "code",
   "execution_count": null,
   "id": "664861ae-4d4d-4297-b035-e83238519f9f",
   "metadata": {},
   "outputs": [],
   "source": [
    "fps = 5\n",
    "\n",
    "clip = moviepy.video.io.ImageSequenceClip.ImageSequenceClip(file_list, fps = fps)\n",
    "clip.write_videofile('Arctic Sea Ice.mp4')"
   ]
  },
  {
   "cell_type": "code",
   "execution_count": null,
   "id": "dde23ec4-6417-4528-ace7-1713c1f4f52c",
   "metadata": {},
   "outputs": [],
   "source": []
  },
  {
   "cell_type": "code",
   "execution_count": null,
   "id": "026c505d-b549-4045-966d-ac74ff3ebc38",
   "metadata": {},
   "outputs": [],
   "source": []
  }
 ],
 "metadata": {
  "kernelspec": {
   "display_name": "Python 3 (ipykernel)",
   "language": "python",
   "name": "python3"
  },
  "language_info": {
   "codemirror_mode": {
    "name": "ipython",
    "version": 3
   },
   "file_extension": ".py",
   "mimetype": "text/x-python",
   "name": "python",
   "nbconvert_exporter": "python",
   "pygments_lexer": "ipython3",
   "version": "3.11.11"
  }
 },
 "nbformat": 4,
 "nbformat_minor": 5
}
