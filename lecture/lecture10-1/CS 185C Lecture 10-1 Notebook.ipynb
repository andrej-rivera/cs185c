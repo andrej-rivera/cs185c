{
 "cells": [
  {
   "cell_type": "markdown",
   "id": "9dc175c8-f744-4655-9037-b313c486c951",
   "metadata": {},
   "source": [
    "# Exploring Initial Conditions in MITgcm\n",
    "\n",
    "In this notebook, we will explore a few ways to construct and implement initial conditions in MITgcm. \n",
    "\n",
    "First, import packages to create and visualize the model data here:"
   ]
  },
  {
   "cell_type": "code",
   "execution_count": 1,
   "id": "a2dba398-30be-4006-84f9-ab3372bfe404",
   "metadata": {},
   "outputs": [],
   "source": [
    "import os\n",
    "import numpy as np\n",
    "import matplotlib.pyplot as plt"
   ]
  },
  {
   "cell_type": "markdown",
   "id": "61590d5a-9085-49fd-8e5c-714c468040e0",
   "metadata": {},
   "source": [
    "Next, define a file path to your MITgcm folder"
   ]
  },
  {
   "cell_type": "code",
   "execution_count": 3,
   "id": "5aeea469-2898-481d-bb5c-030dd4de4862",
   "metadata": {},
   "outputs": [],
   "source": [
    "model_folder = 'C:\\\\Users\\\\tandre\\\\Desktop\\\\Spring 2025\\\\cs185c\\\\MITgcm'"
   ]
  },
  {
   "cell_type": "markdown",
   "id": "e2ce940b-2fdc-4947-a5a1-6c1469b9367c",
   "metadata": {},
   "source": [
    "### Initial Conditions in the Barotropic Gyre Experiment\n",
    "To start, we can investigate the initial conditions in the `tutorial_barotropic_gyre` experiment we have investigated in previous courses. Read in each of the initial conditions of the model here."
   ]
  },
  {
   "cell_type": "code",
   "execution_count": 4,
   "id": "16d9fee9-191d-4512-a39c-bc68237f8d3d",
   "metadata": {},
   "outputs": [
    {
     "ename": "FileNotFoundError",
     "evalue": "[Errno 2] No such file or directory: 'C:\\\\Users\\\\tandre\\\\Desktop\\\\Spring 2025\\\\cs185c\\\\MITgcm\\\\verification\\\\tutorial_barotropic_gyre\\\\run\\\\T.0000000000.data'",
     "output_type": "error",
     "traceback": [
      "\u001b[1;31m---------------------------------------------------------------------------\u001b[0m",
      "\u001b[1;31mFileNotFoundError\u001b[0m                         Traceback (most recent call last)",
      "Cell \u001b[1;32mIn[4], line 9\u001b[0m\n\u001b[0;32m      6\u001b[0m model_size \u001b[38;5;241m=\u001b[39m (\u001b[38;5;241m1\u001b[39m, \u001b[38;5;241m62\u001b[39m, \u001b[38;5;241m62\u001b[39m)\n\u001b[0;32m      8\u001b[0m \u001b[38;5;66;03m# read in the initial conditions\u001b[39;00m\n\u001b[1;32m----> 9\u001b[0m theta \u001b[38;5;241m=\u001b[39m np\u001b[38;5;241m.\u001b[39mfromfile(os\u001b[38;5;241m.\u001b[39mpath\u001b[38;5;241m.\u001b[39mjoin(config_folder,\u001b[38;5;124m'\u001b[39m\u001b[38;5;124mrun\u001b[39m\u001b[38;5;124m'\u001b[39m,\u001b[38;5;124m'\u001b[39m\u001b[38;5;124mT.0000000000.data\u001b[39m\u001b[38;5;124m'\u001b[39m),\u001b[38;5;124m'\u001b[39m\u001b[38;5;124m>f4\u001b[39m\u001b[38;5;124m'\u001b[39m)\u001b[38;5;241m.\u001b[39mreshape(model_size)\n\u001b[0;32m     10\u001b[0m salt \u001b[38;5;241m=\u001b[39m np\u001b[38;5;241m.\u001b[39mfromfile(os\u001b[38;5;241m.\u001b[39mpath\u001b[38;5;241m.\u001b[39mjoin(config_folder,\u001b[38;5;124m'\u001b[39m\u001b[38;5;124mrun\u001b[39m\u001b[38;5;124m'\u001b[39m,\u001b[38;5;124m'\u001b[39m\u001b[38;5;124mS.0000000000.data\u001b[39m\u001b[38;5;124m'\u001b[39m),\u001b[38;5;124m'\u001b[39m\u001b[38;5;124m>f4\u001b[39m\u001b[38;5;124m'\u001b[39m)\u001b[38;5;241m.\u001b[39mreshape(model_size)\n\u001b[0;32m     11\u001b[0m uvel \u001b[38;5;241m=\u001b[39m np\u001b[38;5;241m.\u001b[39mfromfile(os\u001b[38;5;241m.\u001b[39mpath\u001b[38;5;241m.\u001b[39mjoin(config_folder,\u001b[38;5;124m'\u001b[39m\u001b[38;5;124mrun\u001b[39m\u001b[38;5;124m'\u001b[39m,\u001b[38;5;124m'\u001b[39m\u001b[38;5;124mU.0000000000.data\u001b[39m\u001b[38;5;124m'\u001b[39m),\u001b[38;5;124m'\u001b[39m\u001b[38;5;124m>f4\u001b[39m\u001b[38;5;124m'\u001b[39m)\u001b[38;5;241m.\u001b[39mreshape(model_size)\n",
      "\u001b[1;31mFileNotFoundError\u001b[0m: [Errno 2] No such file or directory: 'C:\\\\Users\\\\tandre\\\\Desktop\\\\Spring 2025\\\\cs185c\\\\MITgcm\\\\verification\\\\tutorial_barotropic_gyre\\\\run\\\\T.0000000000.data'"
     ]
    }
   ],
   "source": [
    "# configuration folder\n",
    "config_folder = os.path.join(model_folder,'verification','tutorial_barotropic_gyre')\n",
    "\n",
    "# look in the SIZE file to determine the model size\n",
    "# order is Nr, Ny, Nx\n",
    "model_size = (1, 62, 62)\n",
    "\n",
    "# read in the initial conditions\n",
    "theta = np.fromfile(os.path.join(config_folder,'run','T.0000000000.data'),'>f4').reshape(model_size)\n",
    "salt = np.fromfile(os.path.join(config_folder,'run','S.0000000000.data'),'>f4').reshape(model_size)\n",
    "uvel = np.fromfile(os.path.join(config_folder,'run','U.0000000000.data'),'>f4').reshape(model_size)\n",
    "vvel = np.fromfile(os.path.join(config_folder,'run','V.0000000000.data'),'>f4').reshape(model_size)"
   ]
  },
  {
   "cell_type": "markdown",
   "id": "750084ad-ad8e-4843-a7f5-8da074adc8ca",
   "metadata": {},
   "source": [
    "Now, plot the model initial conditions below."
   ]
  },
  {
   "cell_type": "code",
   "execution_count": null,
   "id": "c4746460-7161-4c38-9167-5387bd2e132c",
   "metadata": {},
   "outputs": [],
   "source": [
    "# plot the initial conditions (at the surface)\n",
    "plt.subplot(2,2,1)\n",
    "C = plt.pcolormesh(theta[0,:,:], cmap='turbo', vmin=19, vmax=21)\n",
    "plt.colorbar()\n",
    "plt.title('Theta')\n",
    "\n",
    "plt.subplot(2,2,2)\n",
    "C = plt.pcolormesh(salt[0,:,:], cmap='viridis', vmin=29, vmax=31)\n",
    "plt.colorbar()\n",
    "plt.title('Salt')\n",
    "\n",
    "plt.subplot(2,2,3)\n",
    "C = plt.pcolormesh(uvel[0,:,:], cmap='seismic', vmin=-0.1, vmax=0.1)\n",
    "plt.colorbar()\n",
    "plt.title('Uvel')\n",
    "\n",
    "plt.subplot(2,2,4)\n",
    "C = plt.pcolormesh(vvel[0,:,:], cmap='seismic', vmin=-0.1, vmax=0.1)\n",
    "plt.colorbar()\n",
    "plt.title('Vvel')\n",
    "\n",
    "plt.tight_layout()\n",
    "\n",
    "plt.show()"
   ]
  },
  {
   "cell_type": "markdown",
   "id": "92016a6c-5a50-47b6-91fd-b5fa7d2b9040",
   "metadata": {},
   "source": [
    "### &#x1F4A1; Observations\n",
    "- Temperature and salinity are assigned default values of 20 and 30 (respectively)\n",
    "- Velocity is assigned a default value of 0"
   ]
  },
  {
   "cell_type": "markdown",
   "id": "66498bd3-458b-4054-9695-5a3d26944d34",
   "metadata": {},
   "source": [
    "### Initial Conditions in the Global Tutorial Lat/Lon Experiment\n",
    "Next, we can investigate the initial conditions in the `tutorial_global_oce_latlon` experiment we have investigated in a previous homework. Read in the initial conditions of this model below:"
   ]
  },
  {
   "cell_type": "code",
   "execution_count": 5,
   "id": "c93153d4-6367-4b27-94d8-45e547308d98",
   "metadata": {},
   "outputs": [
    {
     "ename": "FileNotFoundError",
     "evalue": "[Errno 2] No such file or directory: 'C:\\\\Users\\\\tandre\\\\Desktop\\\\Spring 2025\\\\cs185c\\\\MITgcm\\\\verification\\\\tutorial_global_oce_latlon\\\\run\\\\T.0000000000.data'",
     "output_type": "error",
     "traceback": [
      "\u001b[1;31m---------------------------------------------------------------------------\u001b[0m",
      "\u001b[1;31mFileNotFoundError\u001b[0m                         Traceback (most recent call last)",
      "Cell \u001b[1;32mIn[5], line 9\u001b[0m\n\u001b[0;32m      6\u001b[0m model_size \u001b[38;5;241m=\u001b[39m (\u001b[38;5;241m15\u001b[39m, \u001b[38;5;241m90\u001b[39m, \u001b[38;5;241m40\u001b[39m)\n\u001b[0;32m      8\u001b[0m \u001b[38;5;66;03m# read in the initial conditions\u001b[39;00m\n\u001b[1;32m----> 9\u001b[0m theta \u001b[38;5;241m=\u001b[39m np\u001b[38;5;241m.\u001b[39mfromfile(os\u001b[38;5;241m.\u001b[39mpath\u001b[38;5;241m.\u001b[39mjoin(config_folder,\u001b[38;5;124m'\u001b[39m\u001b[38;5;124mrun\u001b[39m\u001b[38;5;124m'\u001b[39m,\u001b[38;5;124m'\u001b[39m\u001b[38;5;124mT.0000000000.data\u001b[39m\u001b[38;5;124m'\u001b[39m),\u001b[38;5;124m'\u001b[39m\u001b[38;5;124m>f4\u001b[39m\u001b[38;5;124m'\u001b[39m)\u001b[38;5;241m.\u001b[39mreshape(model_size)\n\u001b[0;32m     10\u001b[0m salt \u001b[38;5;241m=\u001b[39m np\u001b[38;5;241m.\u001b[39mfromfile(os\u001b[38;5;241m.\u001b[39mpath\u001b[38;5;241m.\u001b[39mjoin(config_folder,\u001b[38;5;124m'\u001b[39m\u001b[38;5;124mrun\u001b[39m\u001b[38;5;124m'\u001b[39m,\u001b[38;5;124m'\u001b[39m\u001b[38;5;124mS.0000000000.data\u001b[39m\u001b[38;5;124m'\u001b[39m),\u001b[38;5;124m'\u001b[39m\u001b[38;5;124m>f4\u001b[39m\u001b[38;5;124m'\u001b[39m)\u001b[38;5;241m.\u001b[39mreshape(model_size)\n\u001b[0;32m     11\u001b[0m uvel \u001b[38;5;241m=\u001b[39m np\u001b[38;5;241m.\u001b[39mfromfile(os\u001b[38;5;241m.\u001b[39mpath\u001b[38;5;241m.\u001b[39mjoin(config_folder,\u001b[38;5;124m'\u001b[39m\u001b[38;5;124mrun\u001b[39m\u001b[38;5;124m'\u001b[39m,\u001b[38;5;124m'\u001b[39m\u001b[38;5;124mU.0000000000.data\u001b[39m\u001b[38;5;124m'\u001b[39m),\u001b[38;5;124m'\u001b[39m\u001b[38;5;124m>f4\u001b[39m\u001b[38;5;124m'\u001b[39m)\u001b[38;5;241m.\u001b[39mreshape(model_size)\n",
      "\u001b[1;31mFileNotFoundError\u001b[0m: [Errno 2] No such file or directory: 'C:\\\\Users\\\\tandre\\\\Desktop\\\\Spring 2025\\\\cs185c\\\\MITgcm\\\\verification\\\\tutorial_global_oce_latlon\\\\run\\\\T.0000000000.data'"
     ]
    }
   ],
   "source": [
    "# configuration folder\n",
    "config_folder = os.path.join(model_folder,'verification','tutorial_global_oce_latlon')\n",
    "\n",
    "# look in the SIZE file to determine the model size\n",
    "# order is Nr, Ny, Nx\n",
    "model_size = (15, 90, 40)\n",
    "\n",
    "# read in the initial conditions\n",
    "theta = np.fromfile(os.path.join(config_folder,'run','T.0000000000.data'),'>f4').reshape(model_size)\n",
    "salt = np.fromfile(os.path.join(config_folder,'run','S.0000000000.data'),'>f4').reshape(model_size)\n",
    "uvel = np.fromfile(os.path.join(config_folder,'run','U.0000000000.data'),'>f4').reshape(model_size)\n",
    "vvel = np.fromfile(os.path.join(config_folder,'run','V.0000000000.data'),'>f4').reshape(model_size)"
   ]
  },
  {
   "cell_type": "markdown",
   "id": "9ce6b994-37bb-47ca-a898-5150c1a4dae3",
   "metadata": {},
   "source": [
    "Then, plot the initial conditions as above:"
   ]
  },
  {
   "cell_type": "code",
   "execution_count": null,
   "id": "9125a2dc-f26c-4a98-b3f6-e1b98214a2e4",
   "metadata": {},
   "outputs": [],
   "source": [
    "# plot the initial conditions (at the surface)\n",
    "plt.subplot(2,2,1)\n",
    "C = plt.pcolormesh(theta[0,:,:], cmap='turbo')\n",
    "plt.colorbar()\n",
    "plt.title('Theta')\n",
    "\n",
    "plt.subplot(2,2,2)\n",
    "C = plt.pcolormesh(salt[0,:,:], cmap='viridis', vmin=29, vmax=38)\n",
    "plt.colorbar()\n",
    "plt.title('Salt')\n",
    "\n",
    "plt.subplot(2,2,3)\n",
    "C = plt.pcolormesh(uvel[0,:,:], cmap='seismic', vmin=-0.1, vmax=0.1)\n",
    "plt.colorbar()\n",
    "plt.title('Uvel')\n",
    "\n",
    "plt.subplot(2,2,4)\n",
    "C = plt.pcolormesh(vvel[0,:,:], cmap='seismic', vmin=-0.1, vmax=0.1)\n",
    "plt.colorbar()\n",
    "plt.title('Vvel')\n",
    "plt.tight_layout()\n",
    "\n",
    "plt.show()"
   ]
  },
  {
   "cell_type": "markdown",
   "id": "1023f1a7-11f4-4b55-9ab4-041d96001c94",
   "metadata": {},
   "source": [
    "Where are these conditions provided? By looking in the `data` file, we can see that there are two files provided for the initial temperature and salinity: `lev_t.bin` and `lev_s.bin`. Let's read those in and plot them to double check they are the same fields."
   ]
  },
  {
   "cell_type": "code",
   "execution_count": null,
   "id": "d92e7c7d-b803-4339-b6c7-6483aa047bb3",
   "metadata": {},
   "outputs": [],
   "source": [
    "# read in the initial conditions\n",
    "grid_size = ()\n",
    "theta = np.fromfile(os.path.join(config_folder,'run','lev_t.bin'),'>f4').reshape(grid_size)\n",
    "salt = np.fromfile(os.path.join(config_folder,'run','lev_s.bin'),'>f4').reshape(grid_size)\n",
    "\n",
    "plt.figure(figsize=(8,3))\n",
    "# plot the provided initial conditions (at the surface)\n",
    "plt.subplot(1,2,1)\n",
    "C = plt.pcolormesh(theta[0,0,:,:], cmap='turbo')\n",
    "plt.colorbar()\n",
    "plt.title('Theta')\n",
    "\n",
    "plt.subplot(1,2,2)\n",
    "C = plt.pcolormesh(salt[0,0,:,:], cmap='viridis', vmin=29, vmax=38)\n",
    "plt.colorbar()\n",
    "plt.title('Salt')\n",
    "\n",
    "plt.show()"
   ]
  },
  {
   "cell_type": "markdown",
   "id": "e883c03d-3d8e-48f4-a24d-aaaa71d03177",
   "metadata": {},
   "source": [
    "### &#x1F4A1; Observation\n",
    "- We can *provide* initital conditions by specifying them in the `data` file"
   ]
  },
  {
   "cell_type": "markdown",
   "id": "4b812ae0-7fec-4a4f-9196-0e6b591dfe7f",
   "metadata": {},
   "source": [
    "### Picking Up Where You Left Off\n",
    "In one of the previous homework experiments, we used a *pickup* file that could be used to restart an experiment that was already run for a given period of time. This represents another way to provide initial conditions to your model. Here, let's look at the contents of a pickup file."
   ]
  },
  {
   "cell_type": "code",
   "execution_count": null,
   "id": "048f2c3c-78e6-4be6-ae0a-ee98475b9d49",
   "metadata": {},
   "outputs": [],
   "source": [
    "# define the number of layers in the input file\n",
    "n_3D_layers = \n",
    "n_2D_layers = \n",
    "Nr = 15\n",
    "total_layers = \n",
    "\n",
    "# read in the pickup grid\n",
    "pickup_size = (total_layers, 40, 90)\n",
    "pickup_grid = np.fromfile(os.path.join(config_folder,'run','pickup.0000070080.data'),'>f4').reshape(pickup_size)\n",
    "\n",
    "# read the fields from the grid\n",
    "uvel = pickup_grid[:Nr, :, :]\n",
    "vvel = pickup_grid[Nr:2*Nr, :, :]\n",
    "theta = pickup_grid[2*Nr:3*Nr, :, :]\n",
    "salt = pickup_grid[3*Nr:4*Nr, :, :]\n",
    "GuNm1 = pickup_grid[4*Nr:5*Nr, :, :]\n",
    "GvNm1 = pickup_grid[5*Nr:6*Nr, :, :]\n",
    "GtNm1 = pickup_grid[6*Nr:7*Nr, :, :]\n",
    "GsNm1 = pickup_grid[7*Nr:8*Nr, :, :]\n",
    "EtaN = pickup_grid[8*Nr, :, :]\n",
    "dEtaHdt = pickup_grid[8*Nr+1, :, :]\n",
    "EtaH = pickup_grid[8*Nr+2, :, :]"
   ]
  },
  {
   "cell_type": "markdown",
   "id": "d8d68b0d-f169-4bea-8983-3b50cf5a49f2",
   "metadata": {},
   "source": [
    "Now, we can plot all 11 fields of the pickup"
   ]
  },
  {
   "cell_type": "code",
   "execution_count": null,
   "id": "e4143acc-cad9-4dd3-975b-309e1b789fb1",
   "metadata": {},
   "outputs": [],
   "source": [
    "fig = plt.figure(figsize=(10,12))\n",
    "\n",
    "plt.subplot(4,3,1)\n",
    "C = plt.pcolormesh(uvel[0,:,:], cmap='seismic', vmin=-0.1, vmax=0.1)\n",
    "plt.colorbar()\n",
    "plt.title('Uvel')\n",
    "\n",
    "plt.subplot(4,3,2)\n",
    "C = plt.pcolormesh(vvel[0,:,:], cmap='seismic', vmin=-0.1, vmax=0.1)\n",
    "plt.colorbar()\n",
    "plt.title('Vvel')\n",
    "\n",
    "plt.subplot(4,3,3)\n",
    "C = plt.pcolormesh(theta[0,:,:], cmap='turbo')\n",
    "plt.colorbar()\n",
    "plt.title('Theta')\n",
    "\n",
    "plt.subplot(4,3,4)\n",
    "C = plt.pcolormesh(salt[0,:,:], cmap='viridis', vmin=29, vmax=38)\n",
    "plt.colorbar()\n",
    "plt.title('Salt')\n",
    "\n",
    "plt.subplot(4,3,5)\n",
    "C = plt.pcolormesh(GuNm1[0,:,:], cmap='seismic', vmin=-5e-6, vmax=5e-6)\n",
    "plt.colorbar()\n",
    "plt.title('GuNm1')\n",
    "\n",
    "plt.subplot(4,3,6)\n",
    "C = plt.pcolormesh(GvNm1[0,:,:], cmap='seismic', vmin=-5e-6, vmax=5e-6)\n",
    "plt.colorbar()\n",
    "plt.title('GvNm1')\n",
    "\n",
    "plt.subplot(4,3,7)\n",
    "C = plt.pcolormesh(GtNm1[0,:,:], cmap='seismic', vmin=-5e-6, vmax=5e-6)\n",
    "plt.colorbar()\n",
    "plt.title('GtNm1')\n",
    "\n",
    "plt.subplot(4,3,8)\n",
    "C = plt.pcolormesh(GsNm1[0,:,:], cmap='seismic', vmin=-5e-7, vmax=5e-7)\n",
    "plt.colorbar()\n",
    "plt.title('GsNm1')\n",
    "\n",
    "plt.subplot(4,3,9)\n",
    "C = plt.pcolormesh(EtaN, cmap='viridis')\n",
    "plt.colorbar()\n",
    "plt.title('EtaN')\n",
    "\n",
    "plt.subplot(4,3,10)\n",
    "C = plt.pcolormesh(dEtaHdt, cmap='seismic', vmin=-5e-8, vmax=5e-8)\n",
    "plt.colorbar()\n",
    "plt.title('dEtaHdt')\n",
    "\n",
    "plt.subplot(4,3,11)\n",
    "C = plt.pcolormesh(EtaH, cmap='viridis')\n",
    "plt.colorbar()\n",
    "plt.title('EtaH')\n",
    "\n",
    "plt.tight_layout()\n",
    "plt.show()"
   ]
  }
 ],
 "metadata": {
  "kernelspec": {
   "display_name": "cs185c",
   "language": "python",
   "name": "cs185c"
  },
  "language_info": {
   "codemirror_mode": {
    "name": "ipython",
    "version": 3
   },
   "file_extension": ".py",
   "mimetype": "text/x-python",
   "name": "python",
   "nbconvert_exporter": "python",
   "pygments_lexer": "ipython3",
   "version": "3.11.11"
  }
 },
 "nbformat": 4,
 "nbformat_minor": 5
}
